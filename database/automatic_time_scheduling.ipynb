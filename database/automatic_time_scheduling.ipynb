{
 "cells": [
  {
   "cell_type": "code",
   "execution_count": 14,
   "id": "93e40f99",
   "metadata": {},
   "outputs": [
    {
     "name": "stdout",
     "output_type": "stream",
     "text": [
      "Updated 'LIVE' column successfully.\n"
     ]
    }
   ],
   "source": [
    "import mysql.connector\n",
    "\n",
    "def update_live_status():\n",
    "    try:\n",
    "        conn = mysql.connector.connect(\n",
    "            user=\"root\", #enter your username\n",
    "            password=\"yagay1901\", #enter your mysql pass\n",
    "            database=\"asur\" #enter database name\n",
    "        )\n",
    "\n",
    "        cursor = conn.cursor()\n",
    "\n",
    "        cursor.execute(\"\"\"\n",
    "            UPDATE subject\n",
    "            SET LIVE = CASE\n",
    "                WHEN NOW() BETWEEN start_time AND end_time THEN 'L'\n",
    "                ELSE 'NL'\n",
    "            END\n",
    "        \"\"\")\n",
    "\n",
    "        conn.commit()\n",
    "        cursor.close()\n",
    "        conn.close()\n",
    "\n",
    "        print(\"Updated 'LIVE' column successfully.\")\n",
    "        \n",
    "    except Exception as e:\n",
    "        print(\"Error:\", str(e))\n",
    "\n",
    "update_live_status()"
   ]
  },
  {
   "cell_type": "markdown",
   "id": "f0ecbf60",
   "metadata": {},
   "source": [
    "### For automatic checks\n",
    "import schedule\n",
    "import time\n",
    "\n",
    "def update_live_status():\n",
    "    try:\n",
    "        conn = mysql.connector.connect(\n",
    "            user=\"root\", #enter your username\n",
    "            password=\"yagay1901\", #enter your mysql pass\n",
    "            database=\"asur\" #enter database name\n",
    "        )\n",
    "\n",
    "        cursor = conn.cursor()\n",
    "\n",
    "        cursor.execute(\"\"\"\n",
    "            UPDATE subject\n",
    "            SET LIVE = CASE\n",
    "                WHEN NOW() BETWEEN start_time AND end_time THEN 'L'\n",
    "                ELSE 'NL'\n",
    "            END\n",
    "        \"\"\")\n",
    "\n",
    "        conn.commit()\n",
    "        cursor.close()\n",
    "        conn.close()\n",
    "\n",
    "        print(\"Updated 'LIVE' column successfully.\")\n",
    "        \n",
    "    except Exception as e:\n",
    "        print(\"Error:\", str(e))\n",
    "\n",
    "schedule.every(1).minutes.do(update_live_status)\n",
    "\n",
    "while True:\n",
    "    schedule.run_pending()\n",
    "    time.sleep(1)"
   ]
  }
 ],
 "metadata": {
  "kernelspec": {
   "display_name": "Python 3 (ipykernel)",
   "language": "python",
   "name": "python3"
  },
  "language_info": {
   "codemirror_mode": {
    "name": "ipython",
    "version": 3
   },
   "file_extension": ".py",
   "mimetype": "text/x-python",
   "name": "python",
   "nbconvert_exporter": "python",
   "pygments_lexer": "ipython3",
   "version": "3.10.11"
  }
 },
 "nbformat": 4,
 "nbformat_minor": 5
}
